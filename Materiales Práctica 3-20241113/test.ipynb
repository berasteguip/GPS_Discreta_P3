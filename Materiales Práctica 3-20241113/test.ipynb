{
 "cells": [
  {
   "cell_type": "code",
   "execution_count": 8,
   "metadata": {},
   "outputs": [
    {
     "name": "stdout",
     "output_type": "stream",
     "text": [
      "· Leyendo el callejero de Madrid...\n"
     ]
    }
   ],
   "source": [
    "import callejero as ca\n",
    "import importlib\n",
    "importlib.reload(ca)\n",
    "callejero = ca.carga_callejero()\n"
   ]
  },
  {
   "cell_type": "code",
   "execution_count": 20,
   "metadata": {},
   "outputs": [
    {
     "name": "stdout",
     "output_type": "stream",
     "text": [
      "Dirección encontrada --> Calle de Arturo Soria, 24\n",
      "(40.44050555555555, -3.6396305555555557)\n"
     ]
    }
   ],
   "source": [
    "importlib.reload(ca)\n",
    "direccion = ca.busca_direccion('Arturo Doria, 24', callejero)\n",
    "print(direccion)"
   ]
  },
  {
   "cell_type": "code",
   "execution_count": 21,
   "metadata": {},
   "outputs": [
    {
     "name": "stdout",
     "output_type": "stream",
     "text": [
      "a\n"
     ]
    }
   ],
   "source": [
    "for i in range(1):\n",
    "    print('a')"
   ]
  },
  {
   "cell_type": "code",
   "execution_count": 24,
   "metadata": {},
   "outputs": [
    {
     "name": "stdout",
     "output_type": "stream",
     "text": [
      "· Inicializando GPS...\n",
      "· Leyendo el callejero de Madrid...\n",
      "· Cargando grafo de Madrid desde \"madrid.graphml\"...\n",
      "\n",
      "· Ruta más corta (1)\n",
      "· Ruta más rápida (2)\n",
      "· Ruta más rápida (optimizando semáforos) (3)\n",
      "Dirección encontrada --> Calle de La Princesa, 2\n",
      "Dirección encontrada --> Calle de Goya, 4\n",
      "Dirección encontrada --> Calle del Rio Bullaque, 4\n"
     ]
    },
    {
     "ename": "TypeError",
     "evalue": "unhashable type: 'list'",
     "output_type": "error",
     "traceback": [
      "\u001b[1;31m---------------------------------------------------------------------------\u001b[0m",
      "\u001b[1;31mTypeError\u001b[0m                                 Traceback (most recent call last)",
      "File \u001b[1;32m~\\OneDrive - Universidad Pontificia Comillas\\1. Académico\\2º iMAT\\Matemática Discreta\\Prácticas\\Práctica 3. GPS\\GPS_Discreta_P3\\Materiales Práctica 3-20241113\\gps.py:295\u001b[0m\n\u001b[0;32m      0\u001b[0m <Error retrieving source code with stack_data see ipython/ipython#13598>\n",
      "File \u001b[1;32m~\\OneDrive - Universidad Pontificia Comillas\\1. Académico\\2º iMAT\\Matemática Discreta\\Prácticas\\Práctica 3. GPS\\GPS_Discreta_P3\\Materiales Práctica 3-20241113\\gps.py:118\u001b[0m, in \u001b[0;36minstrucciones\u001b[1;34m(G, camino)\u001b[0m\n\u001b[0;32m    106\u001b[0m \u001b[38;5;250m\u001b[39m\u001b[38;5;124;03m\"\"\"\u001b[39;00m\n\u001b[0;32m    107\u001b[0m \u001b[38;5;124;03mGenera una lista de instrucciones de navegación basadas en un camino y un grafo.\u001b[39;00m\n\u001b[0;32m    108\u001b[0m \n\u001b[1;32m   (...)\u001b[0m\n\u001b[0;32m    115\u001b[0m \u001b[38;5;124;03m              giros, distancias y nombres de calles.\u001b[39;00m\n\u001b[0;32m    116\u001b[0m \u001b[38;5;124;03m\"\"\"\u001b[39;00m\n\u001b[0;32m    117\u001b[0m instrucc \u001b[38;5;241m=\u001b[39m []\n\u001b[1;32m--> 118\u001b[0m edge_actual \u001b[38;5;241m=\u001b[39m G[camino[\u001b[38;5;241m0\u001b[39m]][camino[\u001b[38;5;241m1\u001b[39m]]\n\u001b[0;32m    119\u001b[0m vector_actual \u001b[38;5;241m=\u001b[39m (G\u001b[38;5;241m.\u001b[39mnodes[camino[\u001b[38;5;241m0\u001b[39m]][\u001b[38;5;124m'\u001b[39m\u001b[38;5;124my\u001b[39m\u001b[38;5;124m'\u001b[39m] \u001b[38;5;241m-\u001b[39m G\u001b[38;5;241m.\u001b[39mnodes[camino[\u001b[38;5;241m1\u001b[39m]][\u001b[38;5;124m'\u001b[39m\u001b[38;5;124my\u001b[39m\u001b[38;5;124m'\u001b[39m], \n\u001b[0;32m    120\u001b[0m                  G\u001b[38;5;241m.\u001b[39mnodes[camino[\u001b[38;5;241m0\u001b[39m]][\u001b[38;5;124m'\u001b[39m\u001b[38;5;124mx\u001b[39m\u001b[38;5;124m'\u001b[39m] \u001b[38;5;241m-\u001b[39m G\u001b[38;5;241m.\u001b[39mnodes[camino[\u001b[38;5;241m1\u001b[39m]][\u001b[38;5;124m'\u001b[39m\u001b[38;5;124mx\u001b[39m\u001b[38;5;124m'\u001b[39m])\n\u001b[0;32m    121\u001b[0m nombre_actual \u001b[38;5;241m=\u001b[39m edge_actual[\u001b[38;5;124m'\u001b[39m\u001b[38;5;124mname\u001b[39m\u001b[38;5;124m'\u001b[39m]\n",
      "File \u001b[1;32mc:\\Users\\teach\\anaconda3\\Lib\\site-packages\\networkx\\classes\\graph.py:515\u001b[0m, in \u001b[0;36mGraph.__getitem__\u001b[1;34m(self, n)\u001b[0m\n\u001b[0;32m    491\u001b[0m \u001b[38;5;28;01mdef\u001b[39;00m \u001b[38;5;21m__getitem__\u001b[39m(\u001b[38;5;28mself\u001b[39m, n):\n\u001b[0;32m    492\u001b[0m \u001b[38;5;250m    \u001b[39m\u001b[38;5;124;03m\"\"\"Returns a dict of neighbors of node n.  Use: 'G[n]'.\u001b[39;00m\n\u001b[0;32m    493\u001b[0m \n\u001b[0;32m    494\u001b[0m \u001b[38;5;124;03m    Parameters\u001b[39;00m\n\u001b[1;32m   (...)\u001b[0m\n\u001b[0;32m    513\u001b[0m \u001b[38;5;124;03m    AtlasView({1: {}})\u001b[39;00m\n\u001b[0;32m    514\u001b[0m \u001b[38;5;124;03m    \"\"\"\u001b[39;00m\n\u001b[1;32m--> 515\u001b[0m     \u001b[38;5;28;01mreturn\u001b[39;00m \u001b[38;5;28mself\u001b[39m\u001b[38;5;241m.\u001b[39madj[n]\n",
      "File \u001b[1;32mc:\\Users\\teach\\anaconda3\\Lib\\site-packages\\networkx\\classes\\coreviews.py:81\u001b[0m, in \u001b[0;36mAdjacencyView.__getitem__\u001b[1;34m(self, name)\u001b[0m\n\u001b[0;32m     80\u001b[0m \u001b[38;5;28;01mdef\u001b[39;00m \u001b[38;5;21m__getitem__\u001b[39m(\u001b[38;5;28mself\u001b[39m, name):\n\u001b[1;32m---> 81\u001b[0m     \u001b[38;5;28;01mreturn\u001b[39;00m AtlasView(\u001b[38;5;28mself\u001b[39m\u001b[38;5;241m.\u001b[39m_atlas[name])\n",
      "\u001b[1;31mTypeError\u001b[0m: unhashable type: 'list'"
     ]
    }
   ],
   "source": [
    "import gps\n",
    "\n",
    "%run gps.py"
   ]
  }
 ],
 "metadata": {
  "kernelspec": {
   "display_name": "base",
   "language": "python",
   "name": "python3"
  },
  "language_info": {
   "codemirror_mode": {
    "name": "ipython",
    "version": 3
   },
   "file_extension": ".py",
   "mimetype": "text/x-python",
   "name": "python",
   "nbconvert_exporter": "python",
   "pygments_lexer": "ipython3",
   "version": "3.11.10"
  }
 },
 "nbformat": 4,
 "nbformat_minor": 2
}
